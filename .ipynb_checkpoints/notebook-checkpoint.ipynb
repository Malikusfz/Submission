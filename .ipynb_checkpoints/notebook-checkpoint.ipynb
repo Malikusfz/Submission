{
 "cells": [
  {
   "cell_type": "code",
   "execution_count": 1,
   "metadata": {},
   "outputs": [],
   "source": [
    "import numpy as np\n",
    "import seaborn as sns\n",
    "import pandas as pd\n",
    "import matplotlib.pyplot as plt\n",
    "from IPython.display import display"
   ]
  },
  {
   "cell_type": "code",
   "execution_count": 15,
   "metadata": {},
   "outputs": [
    {
     "name": "stderr",
     "output_type": "stream",
     "text": [
      "<>:1: SyntaxWarning: invalid escape sequence '\\P'\n",
      "<>:2: SyntaxWarning: invalid escape sequence '\\P'\n",
      "<>:1: SyntaxWarning: invalid escape sequence '\\P'\n",
      "<>:2: SyntaxWarning: invalid escape sequence '\\P'\n",
      "C:\\Users\\msnfa\\AppData\\Local\\Temp\\ipykernel_23300\\695612571.py:1: SyntaxWarning: invalid escape sequence '\\P'\n",
      "  dongsi_df = pd.read_csv('Data\\PRSA_Data_Dongsi_20130301-20170228.csv')\n",
      "C:\\Users\\msnfa\\AppData\\Local\\Temp\\ipykernel_23300\\695612571.py:2: SyntaxWarning: invalid escape sequence '\\P'\n",
      "  dingling_df = pd.read_csv('Data\\PRSA_Data_Dingling_20130301-20170228.csv')\n"
     ]
    }
   ],
   "source": [
    "dongsi_df = pd.read_csv('Data\\PRSA_Data_Dongsi_20130301-20170228.csv')\n",
    "dingling_df = pd.read_csv('Data\\PRSA_Data_Dingling_20130301-20170228.csv')"
   ]
  },
  {
   "cell_type": "code",
   "execution_count": 24,
   "metadata": {},
   "outputs": [
    {
     "name": "stdout",
     "output_type": "stream",
     "text": [
      "<class 'pandas.core.frame.DataFrame'>\n",
      "Index: 30338 entries, 0 to 35063\n",
      "Data columns (total 18 columns):\n",
      " #   Column   Non-Null Count  Dtype  \n",
      "---  ------   --------------  -----  \n",
      " 0   No       30338 non-null  int64  \n",
      " 1   year     30338 non-null  int64  \n",
      " 2   month    30338 non-null  int64  \n",
      " 3   day      30338 non-null  int64  \n",
      " 4   hour     30338 non-null  int64  \n",
      " 5   PM2.5    30338 non-null  float64\n",
      " 6   PM10     30338 non-null  float64\n",
      " 7   SO2      30338 non-null  float64\n",
      " 8   NO2      30338 non-null  float64\n",
      " 9   CO       30338 non-null  float64\n",
      " 10  O3       30338 non-null  float64\n",
      " 11  TEMP     30338 non-null  float64\n",
      " 12  PRES     30338 non-null  float64\n",
      " 13  DEWP     30338 non-null  float64\n",
      " 14  RAIN     30338 non-null  float64\n",
      " 15  wd       30338 non-null  object \n",
      " 16  WSPM     30338 non-null  float64\n",
      " 17  station  30338 non-null  object \n",
      "dtypes: float64(11), int64(5), object(2)\n",
      "memory usage: 4.4+ MB\n"
     ]
    }
   ],
   "source": [
    "dongsi_df.info()\n"
   ]
  },
  {
   "cell_type": "code",
   "execution_count": 23,
   "metadata": {},
   "outputs": [
    {
     "name": "stdout",
     "output_type": "stream",
     "text": [
      "<class 'pandas.core.frame.DataFrame'>\n",
      "Index: 31306 entries, 2 to 35063\n",
      "Data columns (total 18 columns):\n",
      " #   Column   Non-Null Count  Dtype  \n",
      "---  ------   --------------  -----  \n",
      " 0   No       31306 non-null  int64  \n",
      " 1   year     31306 non-null  int64  \n",
      " 2   month    31306 non-null  int64  \n",
      " 3   day      31306 non-null  int64  \n",
      " 4   hour     31306 non-null  int64  \n",
      " 5   PM2.5    31306 non-null  float64\n",
      " 6   PM10     31306 non-null  float64\n",
      " 7   SO2      31306 non-null  float64\n",
      " 8   NO2      31306 non-null  float64\n",
      " 9   CO       31306 non-null  float64\n",
      " 10  O3       31306 non-null  float64\n",
      " 11  TEMP     31306 non-null  float64\n",
      " 12  PRES     31306 non-null  float64\n",
      " 13  DEWP     31306 non-null  float64\n",
      " 14  RAIN     31306 non-null  float64\n",
      " 15  wd       31306 non-null  object \n",
      " 16  WSPM     31306 non-null  float64\n",
      " 17  station  31306 non-null  object \n",
      "dtypes: float64(11), int64(5), object(2)\n",
      "memory usage: 4.5+ MB\n"
     ]
    }
   ],
   "source": [
    "dingling_df.info()"
   ]
  },
  {
   "cell_type": "code",
   "execution_count": 22,
   "metadata": {},
   "outputs": [],
   "source": [
    "dongsi_df.dropna(inplace=True)\n",
    "dingling_df.dropna(inplace=True)\n",
    "dongsi_df.drop_duplicates(inplace=True)\n",
    "dingling_df.drop_duplicates(inplace=True)"
   ]
  }
 ],
 "metadata": {
  "kernelspec": {
   "display_name": "Python 3",
   "language": "python",
   "name": "python3"
  },
  "language_info": {
   "codemirror_mode": {
    "name": "ipython",
    "version": 3
   },
   "file_extension": ".py",
   "mimetype": "text/x-python",
   "name": "python",
   "nbconvert_exporter": "python",
   "pygments_lexer": "ipython3",
   "version": "3.12.7"
  }
 },
 "nbformat": 4,
 "nbformat_minor": 2
}
